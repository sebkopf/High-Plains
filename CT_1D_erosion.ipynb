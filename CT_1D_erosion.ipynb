{
 "cells": [
  {
   "cell_type": "code",
   "execution_count": 31,
   "metadata": {},
   "outputs": [],
   "source": [
    "# this notebook attempts to run a 1D erosion model by importing it from a python script"
   ]
  },
  {
   "cell_type": "code",
   "execution_count": 33,
   "metadata": {},
   "outputs": [],
   "source": [
    "# import libraries\n",
    "import numpy as np\n",
    "import scipy.stats as stats\n",
    "import matplotlib.pyplot as plt"
   ]
  },
  {
   "cell_type": "code",
   "execution_count": 62,
   "metadata": {},
   "outputs": [],
   "source": [
    "# import an uplift geometry\n",
    "from scripts.functions import down_to_east"
   ]
  },
  {
   "cell_type": "code",
   "execution_count": 73,
   "metadata": {},
   "outputs": [
    {
     "name": "stdout",
     "output_type": "stream",
     "text": [
      "[500 505 510 515 520 525 530 535 540 545 550 555 560 565 570 575 580 585\n",
      " 590 595 600 605 610 615 620 625 630 635 640 645 650 655 660 665 670 675\n",
      " 680 685 690 695 700 705 710 715 720 725 730 735 740 745 750 755 760 765\n",
      " 770 775 780 785 790 795 800 805 810 815 820 825 830 835 840 845 850 855\n",
      " 860 865 870 875 880 885 890 895 900 905 910 915 920 925 930 935 940 945\n",
      " 950 955 960 965 970 975 980 985 990 995]\n"
     ]
    },
    {
     "data": {
      "text/plain": [
       "[<matplotlib.lines.Line2D at 0x1d1b9c89f08>]"
      ]
     },
     "execution_count": 73,
     "metadata": {},
     "output_type": "execute_result"
    },
    {
     "data": {
      "image/png": "[encoded data removed]",
      "text/plain": [
       "<Figure size 432x288 with 1 Axes>"
      ]
     },
     "metadata": {
      "needs_background": "light"
     },
     "output_type": "display_data"
    }
   ],
   "source": [
    "# test how the uplift function works\n",
    "\n",
    "profile_length = np.arange(0, 100)\n",
    "profile_slope = 5\n",
    "z_min = 0\n",
    "profile = profile_slope*profile_length + z_max\n",
    "print(profile)\n",
    "uplifted_profile = down_to_east(profile, 1.5)\n",
    "\n",
    "plt.plot(profile)\n",
    "plt.plot(uplifted_profile)"
   ]
  },
  {
   "cell_type": "code",
   "execution_count": 44,
   "metadata": {},
   "outputs": [],
   "source": [
    "# import the model\n",
    "from scripts.model import erosion_model"
   ]
  },
  {
   "cell_type": "code",
   "execution_count": 46,
   "metadata": {},
   "outputs": [
    {
     "ename": "NameError",
     "evalue": "name 'np' is not defined",
     "output_type": "error",
     "traceback": [
      "\u001b[1;31m---------------------------------------------------------------------------\u001b[0m",
      "\u001b[1;31mNameError\u001b[0m                                 Traceback (most recent call last)",
      "\u001b[1;32m<ipython-input-46-6b5b115488d4>\u001b[0m in \u001b[0;36m<module>\u001b[1;34m\u001b[0m\n\u001b[1;32m----> 1\u001b[1;33m \u001b[0mmodel\u001b[0m \u001b[1;33m=\u001b[0m \u001b[0merosion_model\u001b[0m\u001b[1;33m(\u001b[0m\u001b[1;33m)\u001b[0m\u001b[1;33m\u001b[0m\u001b[1;33m\u001b[0m\u001b[0m\n\u001b[0m",
      "\u001b[1;32m~\\High-Plains\\scripts\\model.py\u001b[0m in \u001b[0;36m__init__\u001b[1;34m(self, channel_length, erodibility, slope, zmax, m, n, dx, uplift, duration, timestep)\u001b[0m\n\u001b[0;32m     15\u001b[0m                  \u001b[0mduration\u001b[0m \u001b[1;33m=\u001b[0m \u001b[1;36m1E6\u001b[0m\u001b[1;33m,\u001b[0m\u001b[1;33m\u001b[0m\u001b[1;33m\u001b[0m\u001b[0m\n\u001b[0;32m     16\u001b[0m                  timestep = 25):\n\u001b[1;32m---> 17\u001b[1;33m \u001b[1;33m\u001b[0m\u001b[0m\n\u001b[0m\u001b[0;32m     18\u001b[0m         \u001b[0mself\u001b[0m\u001b[1;33m.\u001b[0m\u001b[0mchannel_length\u001b[0m \u001b[1;33m=\u001b[0m \u001b[0mchannel_length\u001b[0m\u001b[1;33m\u001b[0m\u001b[1;33m\u001b[0m\u001b[0m\n\u001b[0;32m     19\u001b[0m         \u001b[0mself\u001b[0m\u001b[1;33m.\u001b[0m\u001b[0merodibility\u001b[0m \u001b[1;33m=\u001b[0m \u001b[0merodibility\u001b[0m\u001b[1;33m\u001b[0m\u001b[1;33m\u001b[0m\u001b[0m\n",
      "\u001b[1;31mNameError\u001b[0m: name 'np' is not defined"
     ]
    }
   ],
   "source": [
    "model = erosion_model()"
   ]
  }
 ],
 "metadata": {
  "kernelspec": {
   "display_name": "Python 3",
   "language": "python",
   "name": "python3"
  },
  "language_info": {
   "codemirror_mode": {
    "name": "ipython",
    "version": 3
   },
   "file_extension": ".py",
   "mimetype": "text/x-python",
   "name": "python",
   "nbconvert_exporter": "python",
   "pygments_lexer": "ipython3",
   "version": "3.7.9"
  }
 },
 "nbformat": 4,
 "nbformat_minor": 4
}
