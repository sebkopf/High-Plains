{
 "cells": [
  {
   "cell_type": "code",
   "execution_count": 78,
   "metadata": {},
   "outputs": [],
   "source": [
    "# this is my attempt at writing my model as a class\n",
    "# we'll see how it goes"
   ]
  },
  {
   "cell_type": "code",
   "execution_count": 3,
   "metadata": {},
   "outputs": [],
   "source": [
    "# start by importing the bits and pieces that I want to write into the class\n",
    "from landlab import imshow_grid, RasterModelGrid\n",
    "from landlab.components import ErosionDeposition, DepressionFinderAndRouter, FlowAccumulator\n",
    "from landlab.io import read_esri_ascii\n",
    "import numpy as np\n",
    "import scipy.stats as stats\n",
    "import matplotlib.pyplot as plt"
   ]
  },
  {
   "cell_type": "code",
   "execution_count": 4,
   "metadata": {},
   "outputs": [
    {
     "ename": "ImportError",
     "evalue": "cannot import name 'down_to_northeast' from 'scripts.functions' (C:\\Users\\vanes\\High-Plains\\scripts\\functions.py)",
     "output_type": "error",
     "traceback": [
      "\u001b[1;31m---------------------------------------------------------------------------\u001b[0m",
      "\u001b[1;31mImportError\u001b[0m                               Traceback (most recent call last)",
      "\u001b[1;32m<ipython-input-4-4cebc6f6f215>\u001b[0m in \u001b[0;36m<module>\u001b[1;34m\u001b[0m\n\u001b[1;32m----> 1\u001b[1;33m \u001b[1;32mfrom\u001b[0m \u001b[0mscripts\u001b[0m\u001b[1;33m.\u001b[0m\u001b[0mfunctions\u001b[0m \u001b[1;32mimport\u001b[0m \u001b[0mdown_to_northeast\u001b[0m\u001b[1;33m\u001b[0m\u001b[1;33m\u001b[0m\u001b[0m\n\u001b[0m",
      "\u001b[1;31mImportError\u001b[0m: cannot import name 'down_to_northeast' from 'scripts.functions' (C:\\Users\\vanes\\High-Plains\\scripts\\functions.py)"
     ]
    }
   ],
   "source": [
    "from scripts.functions import down_to_northeast"
   ]
  },
  {
   "cell_type": "code",
   "execution_count": 100,
   "metadata": {},
   "outputs": [],
   "source": [
    "# now start defining the class\n",
    "# basically, I want a single model (class) that does the following, all wrapped as one:\n",
    "# takes a grid\n",
    "# accumulates flow\n",
    "# finds depressions and routes flow\n",
    "# calculates fluvial erosion and deposition\n",
    "# adds tectonic uplift\n",
    "# takes a timestep and run duration\n",
    "\n",
    "mg = RasterModelGrid((20, 20))\n",
    "elevation = mg.add_zeros('node', 'topographic__elevation')\n",
    "elevation += 100 + (mg.node_x)*0.002\n",
    "mg.set_closed_boundaries_at_grid_edges(bottom_is_closed = True,\n",
    "                                             left_is_closed = True,\n",
    "                                             right_is_closed = False,\n",
    "                                             top_is_closed = True)\n",
    "\n",
    "fa = FlowAccumulator(grid, \n",
    "                    flow_director = 'D8')\n",
    "\n",
    "df = DepressionFinderAndRouter(grid)\n",
    "# ed = ErosionDeposition(grid = grid,\n",
    "#                               K = erodibility,\n",
    "#                               v_s = v_s,\n",
    "#                               m_sp = m_sp,\n",
    "#                               n_sp = n_sp)\n",
    "\n",
    "class MyModel():\n",
    "    \n",
    "    def __init__(self,\n",
    "                 grid,\n",
    "                 erodibility,\n",
    "                 v_s,\n",
    "                 m_sp = 0.5,\n",
    "                 n_sp = 1,\n",
    "                 uplift = down_to_east(mg.node_x, 2),\n",
    "                 timestep = 5,\n",
    "                 run_duration = 1000):\n",
    "        \n",
    "        \"\"\" Initializes my model. \n",
    "        \n",
    "            Parameters\n",
    "            ----------\n",
    "            grid : a Landlab grid\n",
    "            flow_accumulation : a Landlab component to accumulate flow on the grid\n",
    "            flow_routing : a Landlab component to dictate how flow is routed across grid cells\n",
    "            erosion_style : a Landlab component to calculate fluvial erosion and deposition\n",
    "            uplift : an uplift geometry from an imported function\n",
    "            timestep : the timestep\n",
    "            run_duration : the total length of time for the model to run \"\"\"\n",
    "\n",
    "        self.grid = grid\n",
    "        self.erodibility = erodibility\n",
    "        self.v_s = v_s\n",
    "        self.m_sp = m_sp\n",
    "        self.n_sp = n_sp\n",
    "        self.uplift = down_to_east(mg.node_x, 2)\n",
    "        self.timestep = timestep\n",
    "        self.run_duration = run_duration\n",
    "        \n",
    "        self._elev = self.grid.at_node[\"topographic__elevation\"]\n",
    "\n",
    "#         ed = ErosionDeposition(grid = grid,\n",
    "#                                K = erodibility,\n",
    "#                                v_s = v_s,\n",
    "#                                m_sp = m_sp,\n",
    "#                                n_sp = n_sp)\n",
    "        \n",
    "#         self.flow_accumulation = fa\n",
    "#         self.flow_routing = df\n",
    "#         self.erosion_style = ed\n",
    "        \n",
    "        print('your function worked!')"
   ]
  },
  {
   "cell_type": "code",
   "execution_count": 101,
   "metadata": {},
   "outputs": [
    {
     "name": "stdout",
     "output_type": "stream",
     "text": [
      "your function worked!\n"
     ]
    }
   ],
   "source": [
    "test = MyModel(mg, 0.0001, 1)"
   ]
  },
  {
   "cell_type": "code",
   "execution_count": null,
   "metadata": {},
   "outputs": [],
   "source": []
  }
 ],
 "metadata": {
  "kernelspec": {
   "display_name": "Python 3",
   "language": "python",
   "name": "python3"
  },
  "language_info": {
   "codemirror_mode": {
    "name": "ipython",
    "version": 3
   },
   "file_extension": ".py",
   "mimetype": "text/x-python",
   "name": "python",
   "nbconvert_exporter": "python",
   "pygments_lexer": "ipython3",
   "version": "3.7.9"
  }
 },
 "nbformat": 4,
 "nbformat_minor": 4
}
